{
 "cells": [
  {
   "cell_type": "code",
   "execution_count": 1,
   "metadata": {},
   "outputs": [],
   "source": [
    "%load_ext autoreload\n",
    "%autoreload 2\n",
    "\n",
    "import pandas as pd\n",
    "import numpy as np \n",
    "import matplotlib.pyplot as plt\n",
    "import io\n",
    "import requests\n",
    "import os\n",
    "from data_utilities import *\n",
    "\n",
    "from random import randint\n",
    "from time import sleep\n",
    "from tqdm import tqdm "
   ]
  },
  {
   "cell_type": "markdown",
   "metadata": {},
   "source": [
    "### TODO \n",
    "- newconect  https://newconnect.pl/notowania  <b> DONE </b>\n",
    "- wig20 \n",
    "- CSVki <b>DONE</b>\n",
    "\n",
    "### INSTRUCTION \n",
    " All usefull funtions are contained in file data_utilities.py. They allow for downloading and minpulating data form stooq.pl:\n",
    " - get_stock_names - reads stock's names from files in <b>\"names_data\"</b> directory \n",
    " - download_stock_data - downloads data for stock with given names\n",
    " - download_multi_stock - downloads data for multiple stocks\n",
    " - to_one_csv - creates one dataframe from data in given directorty \n"
   ]
  },
  {
   "cell_type": "code",
   "execution_count": 6,
   "metadata": {},
   "outputs": [
    {
     "name": "stdout",
     "output_type": "stream",
     "text": [
      "set N to 0 for main.tsv data\n",
      "set N to 1 for NC.tsv data\n"
     ]
    }
   ],
   "source": [
    "### files fith stock's names to chose (main stocks or NC)\n",
    "file_names = os.listdir(\"names_data\")\n",
    "for ii, nn in enumerate(file_names):\n",
    "    print(f\"set N to {ii} for {nn} data\")"
   ]
  },
  {
   "cell_type": "code",
   "execution_count": 3,
   "metadata": {},
   "outputs": [
    {
     "name": "stderr",
     "output_type": "stream",
     "text": [
      "100%|██████████| 396/396 [12:44<00:00,  1.93s/it]\n"
     ]
    },
    {
     "data": {
      "text/html": [
       "<div>\n",
       "<style scoped>\n",
       "    .dataframe tbody tr th:only-of-type {\n",
       "        vertical-align: middle;\n",
       "    }\n",
       "\n",
       "    .dataframe tbody tr th {\n",
       "        vertical-align: top;\n",
       "    }\n",
       "\n",
       "    .dataframe thead th {\n",
       "        text-align: right;\n",
       "    }\n",
       "</style>\n",
       "<table border=\"1\" class=\"dataframe\">\n",
       "  <thead>\n",
       "    <tr style=\"text-align: right;\">\n",
       "      <th></th>\n",
       "      <th>Data</th>\n",
       "      <th>Name</th>\n",
       "    </tr>\n",
       "  </thead>\n",
       "  <tbody>\n",
       "    <tr>\n",
       "      <th>0</th>\n",
       "      <td>1997-06-12</td>\n",
       "      <td>06N</td>\n",
       "    </tr>\n",
       "    <tr>\n",
       "      <th>1</th>\n",
       "      <td>2010-10-28</td>\n",
       "      <td>11B</td>\n",
       "    </tr>\n",
       "    <tr>\n",
       "      <th>2</th>\n",
       "      <td>2010-11-30</td>\n",
       "      <td>4FM</td>\n",
       "    </tr>\n",
       "    <tr>\n",
       "      <th>3</th>\n",
       "      <td>2006-09-21</td>\n",
       "      <td>ABE</td>\n",
       "    </tr>\n",
       "    <tr>\n",
       "      <th>4</th>\n",
       "      <td>2011-08-11</td>\n",
       "      <td>ACG</td>\n",
       "    </tr>\n",
       "    <tr>\n",
       "      <th>...</th>\n",
       "      <td>...</td>\n",
       "      <td>...</td>\n",
       "    </tr>\n",
       "    <tr>\n",
       "      <th>391</th>\n",
       "      <td>2012-10-30</td>\n",
       "      <td>ZEP</td>\n",
       "    </tr>\n",
       "    <tr>\n",
       "      <th>392</th>\n",
       "      <td>1999-08-03</td>\n",
       "      <td>PUE</td>\n",
       "    </tr>\n",
       "    <tr>\n",
       "      <th>393</th>\n",
       "      <td>2008-04-25</td>\n",
       "      <td>ZRE</td>\n",
       "    </tr>\n",
       "    <tr>\n",
       "      <th>394</th>\n",
       "      <td>2010-10-01</td>\n",
       "      <td>ZUE</td>\n",
       "    </tr>\n",
       "    <tr>\n",
       "      <th>395</th>\n",
       "      <td>1991-09-24</td>\n",
       "      <td>ZWC</td>\n",
       "    </tr>\n",
       "  </tbody>\n",
       "</table>\n",
       "<p>396 rows × 2 columns</p>\n",
       "</div>"
      ],
      "text/plain": [
       "           Data Name\n",
       "0    1997-06-12  06N\n",
       "1    2010-10-28  11B\n",
       "2    2010-11-30  4FM\n",
       "3    2006-09-21  ABE\n",
       "4    2011-08-11  ACG\n",
       "..          ...  ...\n",
       "391  2012-10-30  ZEP\n",
       "392  1999-08-03  PUE\n",
       "393  2008-04-25  ZRE\n",
       "394  2010-10-01  ZUE\n",
       "395  1991-09-24  ZWC\n",
       "\n",
       "[396 rows x 2 columns]"
      ]
     },
     "execution_count": 3,
     "metadata": {},
     "output_type": "execute_result"
    }
   ],
   "source": [
    "N = 0\n",
    "### get names \n",
    "names = get_stock_names(file = file_names[N])[\"Skrót\"]\n",
    "names = np.array(names)[:]\n",
    "### read data\n",
    "download_multi_stock(names, save_stats = True, save_dir = f\"{file_names[0][:-4]}_data\")\n"
   ]
  },
  {
   "cell_type": "markdown",
   "metadata": {},
   "source": [
    "# Examples"
   ]
  },
  {
   "cell_type": "markdown",
   "metadata": {},
   "source": [
    "### creates once data frame| form all stocks in directory "
   ]
  },
  {
   "cell_type": "code",
   "execution_count": null,
   "metadata": {},
   "outputs": [],
   "source": [
    "### merges all stock data in given directory into one data_frame \n",
    "df = to_one_csv(directory = \"HERE_PUT_NAME_OF_DIRECTORY\")\n",
    "\n",
    "### saves this data_frame as a .tsv file\n",
    "df.to_csv(\"main_stock.tsv\", sep = \"\\t\")"
   ]
  },
  {
   "cell_type": "markdown",
   "metadata": {},
   "source": [
    "### Example how to download one stock data and plot it"
   ]
  },
  {
   "cell_type": "code",
   "execution_count": 5,
   "metadata": {},
   "outputs": [
    {
     "data": {
      "text/plain": [
       "<AxesSubplot:xlabel='Data'>"
      ]
     },
     "execution_count": 5,
     "metadata": {},
     "output_type": "execute_result"
    },
    {
     "data": {
      "image/png": "[encoded data removed]",
      "text/plain": [
       "<Figure size 432x288 with 1 Axes>"
      ]
     },
     "metadata": {
      "needs_background": "light"
     },
     "output_type": "display_data"
    }
   ],
   "source": [
    "## downloads the data\n",
    "data = download_stock_data(\"RFK\", save = False)\n",
    "\n",
    "## change type of values to time (not sure if neccecery)\n",
    "data[\"Data\"] = pd.to_datetime(data[\"Data\"], dayfirst=True)\n",
    "data = data.set_index('Data')\n",
    "data[\"Zamkniecie\"].plot()"
   ]
  },
  {
   "cell_type": "code",
   "execution_count": 7,
   "metadata": {},
   "outputs": [
    {
     "data": {
      "text/plain": [
       "<AxesSubplot:xlabel='Data'>"
      ]
     },
     "execution_count": 7,
     "metadata": {},
     "output_type": "execute_result"
    },
    {
     "data": {
      "image/png": "[encoded data removed]",
      "text/plain": [
       "<Figure size 432x288 with 1 Axes>"
      ]
     },
     "metadata": {
      "needs_background": "light"
     },
     "output_type": "display_data"
    }
   ],
   "source": [
    "### Example how to read data from file \n",
    "data = pd.read_csv(\"stock_data/11B.tsv\", sep = \"\\t\", index_col = 0)\n",
    "data[\"Data\"] = pd.to_datetime(data[\"Data\"]) ## i guess i  dont need it dayfirst=True\n",
    "data = data.set_index('Data')\n",
    "data[\"Zamkniecie\"].plot()"
   ]
  },
  {
   "cell_type": "code",
   "execution_count": null,
   "metadata": {},
   "outputs": [],
   "source": []
  }
 ],
 "metadata": {
  "kernelspec": {
   "display_name": "Python 3",
   "language": "python",
   "name": "python3"
  },
  "language_info": {
   "codemirror_mode": {
    "name": "ipython",
    "version": 3
   },
   "file_extension": ".py",
   "mimetype": "text/x-python",
   "name": "python",
   "nbconvert_exporter": "python",
   "pygments_lexer": "ipython3",
   "version": "3.8.5"
  }
 },
 "nbformat": 4,
 "nbformat_minor": 4
}
