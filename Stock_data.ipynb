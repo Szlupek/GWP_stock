{
 "cells": [
  {
   "cell_type": "code",
   "execution_count": 1,
   "metadata": {},
   "outputs": [],
   "source": [
    "%load_ext autoreload\n",
    "%autoreload 2\n",
    "\n",
    "import pandas as pd\n",
    "import numpy as np \n",
    "import matplotlib.pyplot as plt\n",
    "import io\n",
    "import requests\n",
    "import os\n",
    "from data_utilities import *\n",
    "\n",
    "from random import randint\n",
    "from time import sleep\n",
    "from tqdm import tqdm "
   ]
  },
  {
   "cell_type": "markdown",
   "metadata": {},
   "source": [
    "### TODO \n",
    "- newconect  https://newconnect.pl/notowania  <b> DONE </b>\n",
    "- wig20 \n",
    "- CSVki <b>DONE</b>\n",
    "\n",
    "### INSTRUCTION \n",
    " All usefull funtions are contained in file data_utilities.py. They allow for downloading and minpulating data form stooq.pl:\n",
    " - get_stock_names - reads stock's names from files in <b>\"names_data\"</b> directory \n",
    " - download_stock_data - downloads data for stock with given names\n",
    " - download_multi_stock - downloads data for multiple stocks\n",
    " - to_one_csv - creates one dataframe from data in given directorty \n"
   ]
  },
  {
   "cell_type": "code",
   "execution_count": 6,
   "metadata": {},
   "outputs": [
    {
     "name": "stdout",
     "output_type": "stream",
     "text": [
      "set N to 0 for main.tsv data\n",
      "set N to 1 for NC.tsv data\n"
     ]
    }
   ],
   "source": [
    "### files fith stock's names to chose (main stocks or NC)\n",
    "file_names = os.listdir(\"names_data\")\n",
    "for ii, nn in enumerate(file_names):\n",
    "    print(f\"set N to {ii} for {nn} data\")"
   ]
  },
  {
   "cell_type": "code",
   "execution_count": 3,
   "metadata": {},
   "outputs": [
    {
     "name": "stderr",
     "output_type": "stream",
     "text": [
      "100%|██████████| 396/396 [12:44<00:00,  1.93s/it]\n"
     ]
    },
    {
     "data": {
      "text/html": [
       "<div>\n",
       "<style scoped>\n",
       "    .dataframe tbody tr th:only-of-type {\n",
       "        vertical-align: middle;\n",
       "    }\n",
       "\n",
       "    .dataframe tbody tr th {\n",
       "        vertical-align: top;\n",
       "    }\n",
       "\n",
       "    .dataframe thead th {\n",
       "        text-align: right;\n",
       "    }\n",
       "</style>\n",
       "<table border=\"1\" class=\"dataframe\">\n",
       "  <thead>\n",
       "    <tr style=\"text-align: right;\">\n",
       "      <th></th>\n",
       "      <th>Data</th>\n",
       "      <th>Name</th>\n",
       "    </tr>\n",
       "  </thead>\n",
       "  <tbody>\n",
       "    <tr>\n",
       "      <th>0</th>\n",
       "      <td>1997-06-12</td>\n",
       "      <td>06N</td>\n",
       "    </tr>\n",
       "    <tr>\n",
       "      <th>1</th>\n",
       "      <td>2010-10-28</td>\n",
       "      <td>11B</td>\n",
       "    </tr>\n",
       "    <tr>\n",
       "      <th>2</th>\n",
       "      <td>2010-11-30</td>\n",
       "      <td>4FM</td>\n",
       "    </tr>\n",
       "    <tr>\n",
       "      <th>3</th>\n",
       "      <td>2006-09-21</td>\n",
       "      <td>ABE</td>\n",
       "    </tr>\n",
       "    <tr>\n",
       "      <th>4</th>\n",
       "      <td>2011-08-11</td>\n",
       "      <td>ACG</td>\n",
       "    </tr>\n",
       "    <tr>\n",
       "      <th>...</th>\n",
       "      <td>...</td>\n",
       "      <td>...</td>\n",
       "    </tr>\n",
       "    <tr>\n",
       "      <th>391</th>\n",
       "      <td>2012-10-30</td>\n",
       "      <td>ZEP</td>\n",
       "    </tr>\n",
       "    <tr>\n",
       "      <th>392</th>\n",
       "      <td>1999-08-03</td>\n",
       "      <td>PUE</td>\n",
       "    </tr>\n",
       "    <tr>\n",
       "      <th>393</th>\n",
       "      <td>2008-04-25</td>\n",
       "      <td>ZRE</td>\n",
       "    </tr>\n",
       "    <tr>\n",
       "      <th>394</th>\n",
       "      <td>2010-10-01</td>\n",
       "      <td>ZUE</td>\n",
       "    </tr>\n",
       "    <tr>\n",
       "      <th>395</th>\n",
       "      <td>1991-09-24</td>\n",
       "      <td>ZWC</td>\n",
       "    </tr>\n",
       "  </tbody>\n",
       "</table>\n",
       "<p>396 rows × 2 columns</p>\n",
       "</div>"
      ],
      "text/plain": [
       "           Data Name\n",
       "0    1997-06-12  06N\n",
       "1    2010-10-28  11B\n",
       "2    2010-11-30  4FM\n",
       "3    2006-09-21  ABE\n",
       "4    2011-08-11  ACG\n",
       "..          ...  ...\n",
       "391  2012-10-30  ZEP\n",
       "392  1999-08-03  PUE\n",
       "393  2008-04-25  ZRE\n",
       "394  2010-10-01  ZUE\n",
       "395  1991-09-24  ZWC\n",
       "\n",
       "[396 rows x 2 columns]"
      ]
     },
     "execution_count": 3,
     "metadata": {},
     "output_type": "execute_result"
    }
   ],
   "source": [
    "N = 0\n",
    "### get names \n",
    "names = get_stock_names(file = file_names[N])[\"Skrót\"]\n",
    "names = np.array(names)[:]\n",
    "### read data\n",
    "download_multi_stock(names, save_stats = True, save_dir = f\"{file_names[0][:-4]}_data\")\n"
   ]
  },
  {
   "cell_type": "markdown",
   "metadata": {},
   "source": [
    "# Examples"
   ]
  },
  {
   "cell_type": "markdown",
   "metadata": {},
   "source": [
    "### creates once data frame| form all stocks in directory "
   ]
  },
  {
   "cell_type": "code",
   "execution_count": null,
   "metadata": {},
   "outputs": [],
   "source": [
    "### merges all stock data in given directory into one data_frame \n",
    "df = to_one_csv(directory = \"HERE_PUT_NAME_OF_DIRECTORY\")\n",
    "\n",
    "### saves this data_frame as a .tsv file\n",
    "df.to_csv(\"main_stock.tsv\", sep = \"\\t\")"
   ]
  },
  {
   "cell_type": "markdown",
   "metadata": {},
   "source": [
    "### Example how to download one stock data and plot it"
   ]
  },
  {
   "cell_type": "code",
   "execution_count": 5,
   "metadata": {},
   "outputs": [
    {
     "data": {
      "text/plain": [
       "<AxesSubplot:xlabel='Data'>"
      ]
     },
     "execution_count": 5,
     "metadata": {},
     "output_type": "execute_result"
    },
    {
     "data": {
      "image/png": "[encoded data removed]",
      "text/plain": [
       "<Figure size 432x288 with 1 Axes>"
      ]
     },
     "metadata": {
      "needs_background": "light"
     },
     "output_type": "display_data"
    }
   ],
   "source": [
    "## downloads the data\n",
    "data = download_stock_data(\"RFK\", save = False)\n",
    "\n",
    "## change type of values to time (not sure if neccecery)\n",
    "data[\"Data\"] = pd.to_datetime(data[\"Data\"], dayfirst=True)\n",
    "data = data.set_index('Data')\n",
    "data[\"Zamkniecie\"].plot()"
   ]
  },
  {
   "cell_type": "code",
   "execution_count": 2,
   "metadata": {},
   "outputs": [
    {
     "data": {
      "text/plain": [
       "<AxesSubplot:xlabel='Data'>"
      ]
     },
     "execution_count": 2,
     "metadata": {},
     "output_type": "execute_result"
    },
    {
     "data": {
      "image/png": "[encoded data removed]",
      "text/plain": [
       "<Figure size 432x288 with 1 Axes>"
      ]
     },
     "metadata": {
      "needs_background": "light"
     },
     "output_type": "display_data"
    }
   ],
   "source": [
    "### Example how to read data from file \n",
    "data = pd.read_csv(\"main_data/11B.tsv\", sep = \"\\t\", index_col = 0)\n",
    "data[\"Data\"] = pd.to_datetime(data[\"Data\"]) ## i guess i  dont need it dayfirst=True\n",
    "data = data.set_index('Data')\n",
    "data[\"Zamkniecie\"].plot()"
   ]
  },
  {
   "cell_type": "code",
   "execution_count": 3,
   "metadata": {},
   "outputs": [
    {
     "data": {
      "text/html": [
       "<div>\n",
       "<style scoped>\n",
       "    .dataframe tbody tr th:only-of-type {\n",
       "        vertical-align: middle;\n",
       "    }\n",
       "\n",
       "    .dataframe tbody tr th {\n",
       "        vertical-align: top;\n",
       "    }\n",
       "\n",
       "    .dataframe thead th {\n",
       "        text-align: right;\n",
       "    }\n",
       "</style>\n",
       "<table border=\"1\" class=\"dataframe\">\n",
       "  <thead>\n",
       "    <tr style=\"text-align: right;\">\n",
       "      <th></th>\n",
       "      <th>Otwarcie</th>\n",
       "      <th>Najwyzszy</th>\n",
       "      <th>Najnizszy</th>\n",
       "      <th>Zamkniecie</th>\n",
       "      <th>Wolumen</th>\n",
       "    </tr>\n",
       "    <tr>\n",
       "      <th>Data</th>\n",
       "      <th></th>\n",
       "      <th></th>\n",
       "      <th></th>\n",
       "      <th></th>\n",
       "      <th></th>\n",
       "    </tr>\n",
       "  </thead>\n",
       "  <tbody>\n",
       "    <tr>\n",
       "      <th>2010-10-28</th>\n",
       "      <td>3.75</td>\n",
       "      <td>4.18</td>\n",
       "      <td>3.40</td>\n",
       "      <td>3.95</td>\n",
       "      <td>207981</td>\n",
       "    </tr>\n",
       "    <tr>\n",
       "      <th>2010-10-29</th>\n",
       "      <td>4.25</td>\n",
       "      <td>5.35</td>\n",
       "      <td>3.80</td>\n",
       "      <td>5.14</td>\n",
       "      <td>275534</td>\n",
       "    </tr>\n",
       "    <tr>\n",
       "      <th>2010-11-02</th>\n",
       "      <td>5.45</td>\n",
       "      <td>5.99</td>\n",
       "      <td>4.82</td>\n",
       "      <td>4.86</td>\n",
       "      <td>118863</td>\n",
       "    </tr>\n",
       "    <tr>\n",
       "      <th>2010-11-03</th>\n",
       "      <td>4.74</td>\n",
       "      <td>5.02</td>\n",
       "      <td>4.00</td>\n",
       "      <td>4.36</td>\n",
       "      <td>86129</td>\n",
       "    </tr>\n",
       "    <tr>\n",
       "      <th>2010-11-04</th>\n",
       "      <td>4.40</td>\n",
       "      <td>4.65</td>\n",
       "      <td>4.30</td>\n",
       "      <td>4.35</td>\n",
       "      <td>16078</td>\n",
       "    </tr>\n",
       "    <tr>\n",
       "      <th>...</th>\n",
       "      <td>...</td>\n",
       "      <td>...</td>\n",
       "      <td>...</td>\n",
       "      <td>...</td>\n",
       "      <td>...</td>\n",
       "    </tr>\n",
       "    <tr>\n",
       "      <th>2021-01-25</th>\n",
       "      <td>490.00</td>\n",
       "      <td>498.00</td>\n",
       "      <td>486.50</td>\n",
       "      <td>496.50</td>\n",
       "      <td>7409</td>\n",
       "    </tr>\n",
       "    <tr>\n",
       "      <th>2021-01-26</th>\n",
       "      <td>496.00</td>\n",
       "      <td>497.50</td>\n",
       "      <td>487.00</td>\n",
       "      <td>495.00</td>\n",
       "      <td>9855</td>\n",
       "    </tr>\n",
       "    <tr>\n",
       "      <th>2021-01-27</th>\n",
       "      <td>491.00</td>\n",
       "      <td>506.00</td>\n",
       "      <td>490.00</td>\n",
       "      <td>501.00</td>\n",
       "      <td>9345</td>\n",
       "    </tr>\n",
       "    <tr>\n",
       "      <th>2021-01-28</th>\n",
       "      <td>500.00</td>\n",
       "      <td>500.00</td>\n",
       "      <td>485.00</td>\n",
       "      <td>498.00</td>\n",
       "      <td>5047</td>\n",
       "    </tr>\n",
       "    <tr>\n",
       "      <th>2021-01-29</th>\n",
       "      <td>492.00</td>\n",
       "      <td>499.50</td>\n",
       "      <td>485.00</td>\n",
       "      <td>485.00</td>\n",
       "      <td>4522</td>\n",
       "    </tr>\n",
       "  </tbody>\n",
       "</table>\n",
       "<p>2552 rows × 5 columns</p>\n",
       "</div>"
      ],
      "text/plain": [
       "            Otwarcie  Najwyzszy  Najnizszy  Zamkniecie  Wolumen\n",
       "Data                                                           \n",
       "2010-10-28      3.75       4.18       3.40        3.95   207981\n",
       "2010-10-29      4.25       5.35       3.80        5.14   275534\n",
       "2010-11-02      5.45       5.99       4.82        4.86   118863\n",
       "2010-11-03      4.74       5.02       4.00        4.36    86129\n",
       "2010-11-04      4.40       4.65       4.30        4.35    16078\n",
       "...              ...        ...        ...         ...      ...\n",
       "2021-01-25    490.00     498.00     486.50      496.50     7409\n",
       "2021-01-26    496.00     497.50     487.00      495.00     9855\n",
       "2021-01-27    491.00     506.00     490.00      501.00     9345\n",
       "2021-01-28    500.00     500.00     485.00      498.00     5047\n",
       "2021-01-29    492.00     499.50     485.00      485.00     4522\n",
       "\n",
       "[2552 rows x 5 columns]"
      ]
     },
     "execution_count": 3,
     "metadata": {},
     "output_type": "execute_result"
    }
   ],
   "source": [
    "data.loc[:,]"
   ]
  },
  {
   "cell_type": "code",
   "execution_count": null,
   "metadata": {},
   "outputs": [],
   "source": []
  }
 ],
 "metadata": {
  "kernelspec": {
   "display_name": "Python 3",
   "language": "python",
   "name": "python3"
  },
  "language_info": {
   "codemirror_mode": {
    "name": "ipython",
    "version": 3
   },
   "file_extension": ".py",
   "mimetype": "text/x-python",
   "name": "python",
   "nbconvert_exporter": "python",
   "pygments_lexer": "ipython3",
   "version": "3.8.5"
  }
 },
 "nbformat": 4,
 "nbformat_minor": 4
}
